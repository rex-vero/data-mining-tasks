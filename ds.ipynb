{
 "cells": [
  {
   "cell_type": "code",
   "id": "initial_id",
   "metadata": {
    "collapsed": true,
    "ExecuteTime": {
     "end_time": "2025-05-11T20:33:56.425356Z",
     "start_time": "2025-05-11T20:33:56.421849Z"
    }
   },
   "source": [
    "import pandas as pd\n",
    "import matplotlib.pyplot as plt"
   ],
   "outputs": [],
   "execution_count": 799
  },
  {
   "metadata": {
    "ExecuteTime": {
     "end_time": "2025-05-11T20:33:56.473107Z",
     "start_time": "2025-05-11T20:33:56.431641Z"
    }
   },
   "cell_type": "code",
   "source": [
    "ds = pd.read_csv('_cancer_dataset_uae.csv')\n",
    "data = ds.head(1000).copy()\n",
    "data"
   ],
   "id": "3aae3f6ab7da8a04",
   "outputs": [
    {
     "data": {
      "text/plain": [
       "    Patient_ID  Age  Gender Nationality         Emirate Diagnosis_Date  \\\n",
       "0    PAT000001   69  Female     Emirati   Umm Al Quwain     2020-11-30   \n",
       "1    PAT000002   32    Male     Emirati   Umm Al Quwain     2015-10-10   \n",
       "2    PAT000003   89    Male     Emirati       Abu Dhabi     2018-02-13   \n",
       "3    PAT000004   78  Female     Emirati       Abu Dhabi     2022-02-04   \n",
       "4    PAT000005   38  Female     Emirati        Fujairah     2019-12-03   \n",
       "..         ...  ...     ...         ...             ...            ...   \n",
       "995  PAT000996   27    Male  Expatriate       Abu Dhabi     2019-03-06   \n",
       "996  PAT000997   51  Female     Emirati  Ras Al Khaimah     2016-09-27   \n",
       "997  PAT000998   72  Female  Expatriate   Umm Al Quwain     2023-04-03   \n",
       "998  PAT000999   49  Female  Expatriate        Fujairah     2022-07-20   \n",
       "999  PAT001000   67  Female  Expatriate       Abu Dhabi     2019-04-21   \n",
       "\n",
       "    Cancer_Type Cancer_Stage Treatment_Type Treatment_Start_Date  \\\n",
       "0         Liver           II      Radiation           2020-12-04   \n",
       "1      Leukemia          III        Surgery           2015-11-05   \n",
       "2         Liver          III      Radiation           2018-08-03   \n",
       "3          Lung          III      Radiation           2022-03-13   \n",
       "4    Pancreatic           II   Chemotherapy           2020-02-29   \n",
       "..          ...          ...            ...                  ...   \n",
       "995      Breast          III        Surgery           2019-07-16   \n",
       "996    Prostate           IV  Immunotherapy           2017-01-13   \n",
       "997  Colorectal           II        Surgery           2023-06-19   \n",
       "998  Colorectal           IV   Chemotherapy           2022-11-24   \n",
       "999  Colorectal            I      Radiation           2019-10-06   \n",
       "\n",
       "                       Hospital Primary_Physician          Outcome Death_Date  \\\n",
       "0       Sheikh Khalifa Hospital          Dr. VO41        Recovered        NaN   \n",
       "1                Dubai Hospital          Dr. SM31        Recovered        NaN   \n",
       "2       Zayed Military Hospital           Dr. BC7  Under Treatment        NaN   \n",
       "3    Cleveland Clinic Abu Dhabi          Dr. TC14        Recovered        NaN   \n",
       "4       Sheikh Khalifa Hospital          Dr. YS37        Recovered        NaN   \n",
       "..                          ...               ...              ...        ...   \n",
       "995  Cleveland Clinic Abu Dhabi          Dr. KT24        Recovered        NaN   \n",
       "996              Dubai Hospital          Dr. AR10  Under Treatment        NaN   \n",
       "997     Sheikh Khalifa Hospital          Dr. WA19  Under Treatment        NaN   \n",
       "998     Sheikh Khalifa Hospital          Dr. EF23  Under Treatment        NaN   \n",
       "999  Cleveland Clinic Abu Dhabi           Dr. CO4        Recovered        NaN   \n",
       "\n",
       "    Cause_of_Death Smoking_Status Comorbidities    Ethnicity  Weight  Height  \n",
       "0              NaN     Non-Smoker           NaN     European      61     157  \n",
       "1              NaN         Smoker           NaN  South Asian      80     175  \n",
       "2              NaN     Non-Smoker           NaN  South Asian      50     175  \n",
       "3              NaN  Former Smoker           NaN      African      44     155  \n",
       "4              NaN  Former Smoker           NaN   East Asian     101     160  \n",
       "..             ...            ...           ...          ...     ...     ...  \n",
       "995            NaN         Smoker      Diabetes   East Asian      64     176  \n",
       "996            NaN  Former Smoker           NaN         Arab      66     169  \n",
       "997            NaN     Non-Smoker      Diabetes  South Asian      70     169  \n",
       "998            NaN         Smoker      Diabetes         Arab      82     172  \n",
       "999            NaN         Smoker  Hypertension     European      72     168  \n",
       "\n",
       "[1000 rows x 20 columns]"
      ],
      "text/html": [
       "<div>\n",
       "<style scoped>\n",
       "    .dataframe tbody tr th:only-of-type {\n",
       "        vertical-align: middle;\n",
       "    }\n",
       "\n",
       "    .dataframe tbody tr th {\n",
       "        vertical-align: top;\n",
       "    }\n",
       "\n",
       "    .dataframe thead th {\n",
       "        text-align: right;\n",
       "    }\n",
       "</style>\n",
       "<table border=\"1\" class=\"dataframe\">\n",
       "  <thead>\n",
       "    <tr style=\"text-align: right;\">\n",
       "      <th></th>\n",
       "      <th>Patient_ID</th>\n",
       "      <th>Age</th>\n",
       "      <th>Gender</th>\n",
       "      <th>Nationality</th>\n",
       "      <th>Emirate</th>\n",
       "      <th>Diagnosis_Date</th>\n",
       "      <th>Cancer_Type</th>\n",
       "      <th>Cancer_Stage</th>\n",
       "      <th>Treatment_Type</th>\n",
       "      <th>Treatment_Start_Date</th>\n",
       "      <th>Hospital</th>\n",
       "      <th>Primary_Physician</th>\n",
       "      <th>Outcome</th>\n",
       "      <th>Death_Date</th>\n",
       "      <th>Cause_of_Death</th>\n",
       "      <th>Smoking_Status</th>\n",
       "      <th>Comorbidities</th>\n",
       "      <th>Ethnicity</th>\n",
       "      <th>Weight</th>\n",
       "      <th>Height</th>\n",
       "    </tr>\n",
       "  </thead>\n",
       "  <tbody>\n",
       "    <tr>\n",
       "      <th>0</th>\n",
       "      <td>PAT000001</td>\n",
       "      <td>69</td>\n",
       "      <td>Female</td>\n",
       "      <td>Emirati</td>\n",
       "      <td>Umm Al Quwain</td>\n",
       "      <td>2020-11-30</td>\n",
       "      <td>Liver</td>\n",
       "      <td>II</td>\n",
       "      <td>Radiation</td>\n",
       "      <td>2020-12-04</td>\n",
       "      <td>Sheikh Khalifa Hospital</td>\n",
       "      <td>Dr. VO41</td>\n",
       "      <td>Recovered</td>\n",
       "      <td>NaN</td>\n",
       "      <td>NaN</td>\n",
       "      <td>Non-Smoker</td>\n",
       "      <td>NaN</td>\n",
       "      <td>European</td>\n",
       "      <td>61</td>\n",
       "      <td>157</td>\n",
       "    </tr>\n",
       "    <tr>\n",
       "      <th>1</th>\n",
       "      <td>PAT000002</td>\n",
       "      <td>32</td>\n",
       "      <td>Male</td>\n",
       "      <td>Emirati</td>\n",
       "      <td>Umm Al Quwain</td>\n",
       "      <td>2015-10-10</td>\n",
       "      <td>Leukemia</td>\n",
       "      <td>III</td>\n",
       "      <td>Surgery</td>\n",
       "      <td>2015-11-05</td>\n",
       "      <td>Dubai Hospital</td>\n",
       "      <td>Dr. SM31</td>\n",
       "      <td>Recovered</td>\n",
       "      <td>NaN</td>\n",
       "      <td>NaN</td>\n",
       "      <td>Smoker</td>\n",
       "      <td>NaN</td>\n",
       "      <td>South Asian</td>\n",
       "      <td>80</td>\n",
       "      <td>175</td>\n",
       "    </tr>\n",
       "    <tr>\n",
       "      <th>2</th>\n",
       "      <td>PAT000003</td>\n",
       "      <td>89</td>\n",
       "      <td>Male</td>\n",
       "      <td>Emirati</td>\n",
       "      <td>Abu Dhabi</td>\n",
       "      <td>2018-02-13</td>\n",
       "      <td>Liver</td>\n",
       "      <td>III</td>\n",
       "      <td>Radiation</td>\n",
       "      <td>2018-08-03</td>\n",
       "      <td>Zayed Military Hospital</td>\n",
       "      <td>Dr. BC7</td>\n",
       "      <td>Under Treatment</td>\n",
       "      <td>NaN</td>\n",
       "      <td>NaN</td>\n",
       "      <td>Non-Smoker</td>\n",
       "      <td>NaN</td>\n",
       "      <td>South Asian</td>\n",
       "      <td>50</td>\n",
       "      <td>175</td>\n",
       "    </tr>\n",
       "    <tr>\n",
       "      <th>3</th>\n",
       "      <td>PAT000004</td>\n",
       "      <td>78</td>\n",
       "      <td>Female</td>\n",
       "      <td>Emirati</td>\n",
       "      <td>Abu Dhabi</td>\n",
       "      <td>2022-02-04</td>\n",
       "      <td>Lung</td>\n",
       "      <td>III</td>\n",
       "      <td>Radiation</td>\n",
       "      <td>2022-03-13</td>\n",
       "      <td>Cleveland Clinic Abu Dhabi</td>\n",
       "      <td>Dr. TC14</td>\n",
       "      <td>Recovered</td>\n",
       "      <td>NaN</td>\n",
       "      <td>NaN</td>\n",
       "      <td>Former Smoker</td>\n",
       "      <td>NaN</td>\n",
       "      <td>African</td>\n",
       "      <td>44</td>\n",
       "      <td>155</td>\n",
       "    </tr>\n",
       "    <tr>\n",
       "      <th>4</th>\n",
       "      <td>PAT000005</td>\n",
       "      <td>38</td>\n",
       "      <td>Female</td>\n",
       "      <td>Emirati</td>\n",
       "      <td>Fujairah</td>\n",
       "      <td>2019-12-03</td>\n",
       "      <td>Pancreatic</td>\n",
       "      <td>II</td>\n",
       "      <td>Chemotherapy</td>\n",
       "      <td>2020-02-29</td>\n",
       "      <td>Sheikh Khalifa Hospital</td>\n",
       "      <td>Dr. YS37</td>\n",
       "      <td>Recovered</td>\n",
       "      <td>NaN</td>\n",
       "      <td>NaN</td>\n",
       "      <td>Former Smoker</td>\n",
       "      <td>NaN</td>\n",
       "      <td>East Asian</td>\n",
       "      <td>101</td>\n",
       "      <td>160</td>\n",
       "    </tr>\n",
       "    <tr>\n",
       "      <th>...</th>\n",
       "      <td>...</td>\n",
       "      <td>...</td>\n",
       "      <td>...</td>\n",
       "      <td>...</td>\n",
       "      <td>...</td>\n",
       "      <td>...</td>\n",
       "      <td>...</td>\n",
       "      <td>...</td>\n",
       "      <td>...</td>\n",
       "      <td>...</td>\n",
       "      <td>...</td>\n",
       "      <td>...</td>\n",
       "      <td>...</td>\n",
       "      <td>...</td>\n",
       "      <td>...</td>\n",
       "      <td>...</td>\n",
       "      <td>...</td>\n",
       "      <td>...</td>\n",
       "      <td>...</td>\n",
       "      <td>...</td>\n",
       "    </tr>\n",
       "    <tr>\n",
       "      <th>995</th>\n",
       "      <td>PAT000996</td>\n",
       "      <td>27</td>\n",
       "      <td>Male</td>\n",
       "      <td>Expatriate</td>\n",
       "      <td>Abu Dhabi</td>\n",
       "      <td>2019-03-06</td>\n",
       "      <td>Breast</td>\n",
       "      <td>III</td>\n",
       "      <td>Surgery</td>\n",
       "      <td>2019-07-16</td>\n",
       "      <td>Cleveland Clinic Abu Dhabi</td>\n",
       "      <td>Dr. KT24</td>\n",
       "      <td>Recovered</td>\n",
       "      <td>NaN</td>\n",
       "      <td>NaN</td>\n",
       "      <td>Smoker</td>\n",
       "      <td>Diabetes</td>\n",
       "      <td>East Asian</td>\n",
       "      <td>64</td>\n",
       "      <td>176</td>\n",
       "    </tr>\n",
       "    <tr>\n",
       "      <th>996</th>\n",
       "      <td>PAT000997</td>\n",
       "      <td>51</td>\n",
       "      <td>Female</td>\n",
       "      <td>Emirati</td>\n",
       "      <td>Ras Al Khaimah</td>\n",
       "      <td>2016-09-27</td>\n",
       "      <td>Prostate</td>\n",
       "      <td>IV</td>\n",
       "      <td>Immunotherapy</td>\n",
       "      <td>2017-01-13</td>\n",
       "      <td>Dubai Hospital</td>\n",
       "      <td>Dr. AR10</td>\n",
       "      <td>Under Treatment</td>\n",
       "      <td>NaN</td>\n",
       "      <td>NaN</td>\n",
       "      <td>Former Smoker</td>\n",
       "      <td>NaN</td>\n",
       "      <td>Arab</td>\n",
       "      <td>66</td>\n",
       "      <td>169</td>\n",
       "    </tr>\n",
       "    <tr>\n",
       "      <th>997</th>\n",
       "      <td>PAT000998</td>\n",
       "      <td>72</td>\n",
       "      <td>Female</td>\n",
       "      <td>Expatriate</td>\n",
       "      <td>Umm Al Quwain</td>\n",
       "      <td>2023-04-03</td>\n",
       "      <td>Colorectal</td>\n",
       "      <td>II</td>\n",
       "      <td>Surgery</td>\n",
       "      <td>2023-06-19</td>\n",
       "      <td>Sheikh Khalifa Hospital</td>\n",
       "      <td>Dr. WA19</td>\n",
       "      <td>Under Treatment</td>\n",
       "      <td>NaN</td>\n",
       "      <td>NaN</td>\n",
       "      <td>Non-Smoker</td>\n",
       "      <td>Diabetes</td>\n",
       "      <td>South Asian</td>\n",
       "      <td>70</td>\n",
       "      <td>169</td>\n",
       "    </tr>\n",
       "    <tr>\n",
       "      <th>998</th>\n",
       "      <td>PAT000999</td>\n",
       "      <td>49</td>\n",
       "      <td>Female</td>\n",
       "      <td>Expatriate</td>\n",
       "      <td>Fujairah</td>\n",
       "      <td>2022-07-20</td>\n",
       "      <td>Colorectal</td>\n",
       "      <td>IV</td>\n",
       "      <td>Chemotherapy</td>\n",
       "      <td>2022-11-24</td>\n",
       "      <td>Sheikh Khalifa Hospital</td>\n",
       "      <td>Dr. EF23</td>\n",
       "      <td>Under Treatment</td>\n",
       "      <td>NaN</td>\n",
       "      <td>NaN</td>\n",
       "      <td>Smoker</td>\n",
       "      <td>Diabetes</td>\n",
       "      <td>Arab</td>\n",
       "      <td>82</td>\n",
       "      <td>172</td>\n",
       "    </tr>\n",
       "    <tr>\n",
       "      <th>999</th>\n",
       "      <td>PAT001000</td>\n",
       "      <td>67</td>\n",
       "      <td>Female</td>\n",
       "      <td>Expatriate</td>\n",
       "      <td>Abu Dhabi</td>\n",
       "      <td>2019-04-21</td>\n",
       "      <td>Colorectal</td>\n",
       "      <td>I</td>\n",
       "      <td>Radiation</td>\n",
       "      <td>2019-10-06</td>\n",
       "      <td>Cleveland Clinic Abu Dhabi</td>\n",
       "      <td>Dr. CO4</td>\n",
       "      <td>Recovered</td>\n",
       "      <td>NaN</td>\n",
       "      <td>NaN</td>\n",
       "      <td>Smoker</td>\n",
       "      <td>Hypertension</td>\n",
       "      <td>European</td>\n",
       "      <td>72</td>\n",
       "      <td>168</td>\n",
       "    </tr>\n",
       "  </tbody>\n",
       "</table>\n",
       "<p>1000 rows × 20 columns</p>\n",
       "</div>"
      ]
     },
     "execution_count": 800,
     "metadata": {},
     "output_type": "execute_result"
    }
   ],
   "execution_count": 800
  },
  {
   "metadata": {
    "ExecuteTime": {
     "end_time": "2025-05-11T20:33:56.505703Z",
     "start_time": "2025-05-11T20:33:56.503302Z"
    }
   },
   "cell_type": "code",
   "source": "dd = data.Age",
   "id": "f339b8c1ded7d232",
   "outputs": [],
   "execution_count": 801
  },
  {
   "metadata": {
    "ExecuteTime": {
     "end_time": "2025-05-11T20:33:56.532625Z",
     "start_time": "2025-05-11T20:33:56.527599Z"
    }
   },
   "cell_type": "code",
   "source": [
    "five_number_summary = dd.describe()\n",
    "five_number_summary"
   ],
   "id": "188caa37f3a62163",
   "outputs": [
    {
     "data": {
      "text/plain": [
       "count    1000.000000\n",
       "mean       52.881000\n",
       "std        20.958915\n",
       "min        18.000000\n",
       "25%        34.750000\n",
       "50%        52.500000\n",
       "75%        71.000000\n",
       "max        89.000000\n",
       "Name: Age, dtype: float64"
      ]
     },
     "execution_count": 802,
     "metadata": {},
     "output_type": "execute_result"
    }
   ],
   "execution_count": 802
  },
  {
   "metadata": {
    "ExecuteTime": {
     "end_time": "2025-05-11T20:33:56.643137Z",
     "start_time": "2025-05-11T20:33:56.584445Z"
    }
   },
   "cell_type": "code",
   "source": [
    "plt.figure(figsize=(16, 8))\n",
    "plt.grid(True)\n",
    "plt.title('Age boxplot')\n",
    "plt.boxplot(dd)"
   ],
   "id": "71b4f24d306af7c4",
   "outputs": [
    {
     "data": {
      "text/plain": [
       "{'whiskers': [<matplotlib.lines.Line2D at 0x27b156db620>,\n",
       "  <matplotlib.lines.Line2D at 0x27b156d9d30>],\n",
       " 'caps': [<matplotlib.lines.Line2D at 0x27b156d80b0>,\n",
       "  <matplotlib.lines.Line2D at 0x27b156d8a10>],\n",
       " 'boxes': [<matplotlib.lines.Line2D at 0x27b156d9910>],\n",
       " 'medians': [<matplotlib.lines.Line2D at 0x27b156d9af0>],\n",
       " 'fliers': [<matplotlib.lines.Line2D at 0x27b156d97c0>],\n",
       " 'means': []}"
      ]
     },
     "execution_count": 803,
     "metadata": {},
     "output_type": "execute_result"
    },
    {
     "data": {
      "text/plain": [
       "<Figure size 1600x800 with 1 Axes>"
      ],
      "image/png": "[encoded data removed]"
     },
     "metadata": {},
     "output_type": "display_data"
    }
   ],
   "execution_count": 803
  },
  {
   "metadata": {
    "ExecuteTime": {
     "end_time": "2025-05-11T20:33:56.663801Z",
     "start_time": "2025-05-11T20:33:56.659477Z"
    }
   },
   "cell_type": "code",
   "source": [
    "q1 = dd.quantile(0.25)\n",
    "q3 = dd.quantile(0.75)\n",
    "IQR = q3 - q1\n",
    "minimum = q1 - 1.5 * IQR\n",
    "maximum = q3 + 1.5 * IQR\n",
    "print(f\"minimum = {minimum}, maximum = {maximum}, IQR = {IQR}\")"
   ],
   "id": "2be4efb3159bcbe9",
   "outputs": [
    {
     "name": "stdout",
     "output_type": "stream",
     "text": [
      "minimum = -19.625, maximum = 125.375, IQR = 36.25\n"
     ]
    }
   ],
   "execution_count": 804
  },
  {
   "metadata": {
    "ExecuteTime": {
     "end_time": "2025-05-11T20:33:56.728154Z",
     "start_time": "2025-05-11T20:33:56.674904Z"
    }
   },
   "cell_type": "code",
   "source": [
    "_, ax = plt.subplots()\n",
    "ax.hist(dd, bins=8, linewidth=1, edgecolor=\"white\")"
   ],
   "id": "89f0373cde64db8d",
   "outputs": [
    {
     "data": {
      "text/plain": [
       "(array([143., 118., 127., 129., 106., 133., 139., 105.]),\n",
       " array([18.   , 26.875, 35.75 , 44.625, 53.5  , 62.375, 71.25 , 80.125,\n",
       "        89.   ]),\n",
       " <BarContainer object of 8 artists>)"
      ]
     },
     "execution_count": 805,
     "metadata": {},
     "output_type": "execute_result"
    },
    {
     "data": {
      "text/plain": [
       "<Figure size 640x480 with 1 Axes>"
      ],
      "image/png": "[encoded data removed]"
     },
     "metadata": {},
     "output_type": "display_data"
    }
   ],
   "execution_count": 805
  },
  {
   "metadata": {
    "ExecuteTime": {
     "end_time": "2025-05-11T20:33:56.787969Z",
     "start_time": "2025-05-11T20:33:56.740775Z"
    }
   },
   "cell_type": "code",
   "source": [
    "_, ax = plt.subplots()\n",
    "ax.ecdf(dd)"
   ],
   "id": "d4c6cc8478107bd5",
   "outputs": [
    {
     "data": {
      "text/plain": [
       "<matplotlib.lines.Line2D at 0x27b15787e90>"
      ]
     },
     "execution_count": 806,
     "metadata": {},
     "output_type": "execute_result"
    },
    {
     "data": {
      "text/plain": [
       "<Figure size 640x480 with 1 Axes>"
      ],
      "image/png": "[encoded data removed]"
     },
     "metadata": {},
     "output_type": "display_data"
    }
   ],
   "execution_count": 806
  },
  {
   "metadata": {
    "ExecuteTime": {
     "end_time": "2025-05-11T20:33:56.877308Z",
     "start_time": "2025-05-11T20:33:56.801043Z"
    }
   },
   "cell_type": "code",
   "source": [
    "fig, ax = plt.subplots()\n",
    "ax.stairs(dd, linewidth=0.5)"
   ],
   "id": "5d0fa1ade7bdee75",
   "outputs": [
    {
     "data": {
      "text/plain": [
       "<matplotlib.patches.StepPatch at 0x27b157865d0>"
      ]
     },
     "execution_count": 807,
     "metadata": {},
     "output_type": "execute_result"
    },
    {
     "data": {
      "text/plain": [
       "<Figure size 640x480 with 1 Axes>"
      ],
      "image/png": "[encoded data removed]"
     },
     "metadata": {},
     "output_type": "display_data"
    }
   ],
   "execution_count": 807
  },
  {
   "metadata": {
    "ExecuteTime": {
     "end_time": "2025-05-11T20:33:56.898751Z",
     "start_time": "2025-05-11T20:33:56.893590Z"
    }
   },
   "cell_type": "code",
   "source": "data.isnull().sum() #data_mising",
   "id": "71eabf8459beb76f",
   "outputs": [
    {
     "data": {
      "text/plain": [
       "Patient_ID                0\n",
       "Age                       0\n",
       "Gender                    0\n",
       "Nationality               0\n",
       "Emirate                   0\n",
       "Diagnosis_Date            0\n",
       "Cancer_Type               0\n",
       "Cancer_Stage              0\n",
       "Treatment_Type            0\n",
       "Treatment_Start_Date      0\n",
       "Hospital                  0\n",
       "Primary_Physician         0\n",
       "Outcome                   0\n",
       "Death_Date              885\n",
       "Cause_of_Death          885\n",
       "Smoking_Status            0\n",
       "Comorbidities           398\n",
       "Ethnicity                 0\n",
       "Weight                    0\n",
       "Height                    0\n",
       "dtype: int64"
      ]
     },
     "execution_count": 808,
     "metadata": {},
     "output_type": "execute_result"
    }
   ],
   "execution_count": 808
  },
  {
   "metadata": {
    "ExecuteTime": {
     "end_time": "2025-05-11T20:33:56.933810Z",
     "start_time": "2025-05-11T20:33:56.928252Z"
    }
   },
   "cell_type": "code",
   "source": [
    "data = data.copy()\n",
    "data.fillna(\"unknown\", inplace=True)\n",
    "data.isnull().sum()"
   ],
   "id": "1307042aa89ed980",
   "outputs": [
    {
     "data": {
      "text/plain": [
       "Patient_ID              0\n",
       "Age                     0\n",
       "Gender                  0\n",
       "Nationality             0\n",
       "Emirate                 0\n",
       "Diagnosis_Date          0\n",
       "Cancer_Type             0\n",
       "Cancer_Stage            0\n",
       "Treatment_Type          0\n",
       "Treatment_Start_Date    0\n",
       "Hospital                0\n",
       "Primary_Physician       0\n",
       "Outcome                 0\n",
       "Death_Date              0\n",
       "Cause_of_Death          0\n",
       "Smoking_Status          0\n",
       "Comorbidities           0\n",
       "Ethnicity               0\n",
       "Weight                  0\n",
       "Height                  0\n",
       "dtype: int64"
      ]
     },
     "execution_count": 809,
     "metadata": {},
     "output_type": "execute_result"
    }
   ],
   "execution_count": 809
  },
  {
   "metadata": {
    "ExecuteTime": {
     "end_time": "2025-05-11T20:33:56.980897Z",
     "start_time": "2025-05-11T20:33:56.977604Z"
    }
   },
   "cell_type": "code",
   "source": "dd",
   "id": "7bb74da924bbb523",
   "outputs": [
    {
     "data": {
      "text/plain": [
       "0      69\n",
       "1      32\n",
       "2      89\n",
       "3      78\n",
       "4      38\n",
       "       ..\n",
       "995    27\n",
       "996    51\n",
       "997    72\n",
       "998    49\n",
       "999    67\n",
       "Name: Age, Length: 1000, dtype: int64"
      ]
     },
     "execution_count": 810,
     "metadata": {},
     "output_type": "execute_result"
    }
   ],
   "execution_count": 810
  },
  {
   "metadata": {
    "ExecuteTime": {
     "end_time": "2025-05-11T20:33:57.038288Z",
     "start_time": "2025-05-11T20:33:57.033914Z"
    }
   },
   "cell_type": "code",
   "source": [
    "dd_zscore = (dd - dd.mean()) / dd.std()\n",
    "dd_minmax = (dd - dd.min()) / (dd.max() - dd.min())\n",
    "print(f\"z-score = {dd_zscore}, Min-Max = {dd_minmax}\")"
   ],
   "id": "b8a3a2c1ff0a18e6",
   "outputs": [
    {
     "name": "stdout",
     "output_type": "stream",
     "text": [
      "z-score = 0      0.769076\n",
      "1     -0.996282\n",
      "2      1.723324\n",
      "3      1.198488\n",
      "4     -0.710008\n",
      "         ...   \n",
      "995   -1.234844\n",
      "996   -0.089747\n",
      "997    0.912213\n",
      "998   -0.185172\n",
      "999    0.673651\n",
      "Name: Age, Length: 1000, dtype: float64, Min-Max = 0      0.718310\n",
      "1      0.197183\n",
      "2      1.000000\n",
      "3      0.845070\n",
      "4      0.281690\n",
      "         ...   \n",
      "995    0.126761\n",
      "996    0.464789\n",
      "997    0.760563\n",
      "998    0.436620\n",
      "999    0.690141\n",
      "Name: Age, Length: 1000, dtype: float64\n"
     ]
    }
   ],
   "execution_count": 811
  },
  {
   "metadata": {
    "ExecuteTime": {
     "end_time": "2025-05-11T20:33:57.071417Z",
     "start_time": "2025-05-11T20:33:57.068803Z"
    }
   },
   "cell_type": "code",
   "source": [
    "from sklearn.cluster import KMeans\n",
    "import seaborn as sns"
   ],
   "id": "b2ead1e05290ef99",
   "outputs": [],
   "execution_count": 812
  },
  {
   "metadata": {
    "ExecuteTime": {
     "end_time": "2025-05-11T20:33:57.249034Z",
     "start_time": "2025-05-11T20:33:57.157588Z"
    }
   },
   "cell_type": "code",
   "source": [
    "dd = data.Age.values.reshape(-1, 1)\n",
    "kmeans = KMeans(n_clusters=4)\n",
    "labels = kmeans.fit_predict(dd)\n",
    "data['K-means'] = labels\n",
    "plt.figure(figsize=(10, 3))\n",
    "sns.scatterplot(x=data['Age'], y=[0]*len(data), hue=labels, palette='Set2', s=100)\n",
    "plt.title(\"K-Means\")\n",
    "plt.yticks([])\n",
    "plt.xlabel(\"Ages\")\n",
    "plt.show()"
   ],
   "id": "7aee2c89d76a346",
   "outputs": [
    {
     "data": {
      "text/plain": [
       "<Figure size 1000x300 with 1 Axes>"
      ],
      "image/png": "[encoded data removed]"
     },
     "metadata": {},
     "output_type": "display_data"
    }
   ],
   "execution_count": 813
  },
  {
   "metadata": {
    "ExecuteTime": {
     "end_time": "2025-05-11T20:33:57.260484Z",
     "start_time": "2025-05-11T20:33:57.256013Z"
    }
   },
   "cell_type": "code",
   "source": [
    "print(\"Cluster centers:\")\n",
    "kmeans.cluster_centers_.round().astype(int)"
   ],
   "id": "df35f92d558b05f",
   "outputs": [
    {
     "name": "stdout",
     "output_type": "stream",
     "text": [
      "Cluster centers:\n"
     ]
    },
    {
     "data": {
      "text/plain": [
       "array([[78],\n",
       "       [40],\n",
       "       [24],\n",
       "       [57]])"
      ]
     },
     "execution_count": 814,
     "metadata": {},
     "output_type": "execute_result"
    }
   ],
   "execution_count": 814
  },
  {
   "metadata": {
    "ExecuteTime": {
     "end_time": "2025-05-11T20:33:57.617117Z",
     "start_time": "2025-05-11T20:33:57.610137Z"
    }
   },
   "cell_type": "code",
   "source": [
    "for i in range(kmeans.n_clusters):\n",
    "    ages = data[data['K-means'] == i]['Age'].round().astype(int)\n",
    "    print(f\"\\nCluster: {i} (Length: {len(ages)}):\")\n",
    "    print(ages.values)"
   ],
   "id": "a8ffe953d2ca5fae",
   "outputs": [
    {
     "name": "stdout",
     "output_type": "stream",
     "text": [
      "\n",
      "Cluster: 0 (Length: 312):\n",
      "[69 89 78 70 81 77 75 76 77 79 79 79 68 72 81 68 77 70 77 88 71 71 80 79\n",
      " 89 79 70 77 82 88 80 89 79 82 68 80 69 88 76 83 79 74 79 79 79 87 89 79\n",
      " 68 76 69 79 75 69 73 76 71 70 87 85 72 73 86 87 76 87 76 84 88 69 74 77\n",
      " 86 71 89 83 71 78 85 84 76 68 71 81 86 78 81 70 77 80 84 71 75 84 83 77\n",
      " 74 82 83 80 68 75 80 79 75 75 69 87 71 77 70 77 85 72 69 80 75 72 79 75\n",
      " 78 81 80 86 84 68 74 86 79 86 86 69 75 86 78 68 84 82 85 75 81 79 72 79\n",
      " 76 78 88 69 86 69 70 74 70 75 75 83 82 88 87 78 71 84 75 89 78 79 80 73\n",
      " 75 78 74 71 74 89 75 77 81 80 86 83 73 82 80 76 72 86 70 70 68 79 82 89\n",
      " 71 82 71 74 83 68 81 68 80 69 68 73 86 70 83 72 73 84 84 78 68 78 87 73\n",
      " 80 78 69 73 76 73 81 74 85 84 69 81 76 73 76 87 70 87 87 79 79 72 83 68\n",
      " 79 74 83 68 87 85 81 82 80 86 79 77 81 77 81 89 77 79 89 68 80 83 70 68\n",
      " 68 87 84 68 89 81 74 72 85 83 69 73 85 86 89 79 77 85 89 68 71 74 80 71\n",
      " 72 70 69 74 80 76 68 71 88 69 87 80 88 80 78 88 68 73 79 83 68 80 72 72]\n",
      "\n",
      "Cluster: 1 (Length: 231):\n",
      "[32 38 41 39 47 38 39 32 38 35 35 32 41 43 46 32 45 40 44 32 40 32 46 45\n",
      " 45 45 47 44 44 41 36 34 41 33 37 36 36 37 40 48 33 36 37 41 41 42 35 38\n",
      " 37 34 39 47 44 44 38 47 45 36 34 47 41 35 42 41 40 44 34 43 42 41 37 33\n",
      " 32 42 39 32 33 47 36 34 36 40 33 39 43 33 46 33 40 36 33 41 41 46 43 46\n",
      " 38 41 41 40 40 47 34 36 36 45 33 42 40 33 35 34 44 46 34 48 36 36 37 42\n",
      " 38 36 37 35 32 48 33 33 41 45 45 44 34 46 42 47 35 43 44 38 40 34 43 34\n",
      " 40 47 47 46 34 34 40 33 42 44 36 38 39 38 44 43 43 45 43 40 35 32 45 34\n",
      " 42 34 42 35 43 39 38 41 48 41 43 43 36 37 40 34 32 41 39 47 43 35 40 32\n",
      " 42 34 32 46 44 46 44 48 32 46 46 44 43 44 37 40 48 46 40 38 32 38 43 42\n",
      " 34 41 42 46 39 43 45 37 47 46 47 33 36 35 46]\n",
      "\n",
      "Cluster: 2 (Length: 203):\n",
      "[20 19 19 20 24 21 31 26 19 25 21 19 23 21 31 26 18 25 28 25 22 24 29 20\n",
      " 18 22 31 26 21 30 23 18 20 26 29 19 20 19 19 18 19 28 20 18 28 24 19 18\n",
      " 29 26 20 31 25 24 25 21 23 19 26 30 24 25 31 25 22 23 30 26 29 18 18 18\n",
      " 27 27 18 21 19 29 29 30 29 19 25 24 27 29 30 30 29 26 29 31 22 26 24 30\n",
      " 26 22 25 21 30 18 20 23 31 18 20 29 25 25 30 23 27 22 28 18 23 22 20 18\n",
      " 21 20 29 22 31 22 21 27 23 25 21 21 22 18 22 29 18 25 31 19 31 24 20 30\n",
      " 27 25 23 21 26 20 23 21 23 25 22 29 18 31 28 20 23 27 22 27 19 30 19 26\n",
      " 26 18 28 31 22 21 31 23 24 27 22 30 25 22 19 28 23 29 30 22 26 28 18 18\n",
      " 26 19 24 18 30 18 21 18 25 20 27]\n",
      "\n",
      "Cluster: 3 (Length: 254):\n",
      "[55 50 66 59 64 56 61 64 52 53 67 61 51 65 57 58 62 52 52 50 58 51 50 65\n",
      " 54 61 52 64 59 60 53 49 59 62 61 54 61 49 56 61 49 49 55 53 50 57 56 67\n",
      " 59 65 54 49 65 50 53 55 52 58 50 50 65 50 65 55 65 52 66 61 63 54 63 49\n",
      " 50 63 49 64 50 60 65 56 59 67 53 62 49 66 59 64 57 51 65 64 65 56 50 51\n",
      " 49 67 52 50 50 60 50 57 60 61 63 52 51 53 53 66 53 54 66 56 59 56 52 63\n",
      " 57 59 67 54 55 62 53 56 56 62 56 50 55 61 62 49 62 64 53 64 66 53 67 58\n",
      " 50 63 52 64 50 66 66 50 54 62 49 51 56 51 67 64 55 55 67 55 51 60 49 67\n",
      " 59 63 51 66 62 64 65 53 64 55 56 61 51 57 59 58 50 57 53 62 61 64 55 54\n",
      " 50 67 61 57 55 52 66 67 51 52 57 52 54 59 57 56 49 55 56 59 50 53 55 50\n",
      " 55 64 64 62 53 53 60 55 64 63 60 54 57 58 63 53 57 64 58 52 55 51 60 50\n",
      " 66 66 66 66 49 66 62 57 64 55 49 51 49 67]\n"
     ]
    }
   ],
   "execution_count": 815
  }
 ],
 "metadata": {
  "kernelspec": {
   "display_name": "Python 3",
   "language": "python",
   "name": "python3"
  },
  "language_info": {
   "codemirror_mode": {
    "name": "ipython",
    "version": 2
   },
   "file_extension": ".py",
   "mimetype": "text/x-python",
   "name": "python",
   "nbconvert_exporter": "python",
   "pygments_lexer": "ipython2",
   "version": "2.7.6"
  }
 },
 "nbformat": 4,
 "nbformat_minor": 5
}
