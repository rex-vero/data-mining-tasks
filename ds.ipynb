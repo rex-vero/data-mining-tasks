{
 "cells": [
  {
   "cell_type": "code",
   "id": "initial_id",
   "metadata": {
    "collapsed": true,
    "ExecuteTime": {
     "end_time": "2025-04-24T22:59:11.730142Z",
     "start_time": "2025-04-24T22:59:11.726544Z"
    }
   },
   "source": [
    "import pandas as pd\n",
    "import matplotlib.pyplot as plt"
   ],
   "outputs": [],
   "execution_count": 172
  },
  {
   "metadata": {
    "ExecuteTime": {
     "end_time": "2025-04-24T22:59:11.770584Z",
     "start_time": "2025-04-24T22:59:11.739115Z"
    }
   },
   "cell_type": "code",
   "source": [
    "ds = pd.read_csv('_cancer_dataset_uae.csv')\n",
    "data = ds.head(1000)\n",
    "data"
   ],
   "id": "3aae3f6ab7da8a04",
   "outputs": [
    {
     "data": {
      "text/plain": [
       "    Patient_ID  Age  Gender Nationality         Emirate Diagnosis_Date  \\\n",
       "0    PAT000001   69  Female     Emirati   Umm Al Quwain     2020-11-30   \n",
       "1    PAT000002   32    Male     Emirati   Umm Al Quwain     2015-10-10   \n",
       "2    PAT000003   89    Male     Emirati       Abu Dhabi     2018-02-13   \n",
       "3    PAT000004   78  Female     Emirati       Abu Dhabi     2022-02-04   \n",
       "4    PAT000005   38  Female     Emirati        Fujairah     2019-12-03   \n",
       "..         ...  ...     ...         ...             ...            ...   \n",
       "995  PAT000996   27    Male  Expatriate       Abu Dhabi     2019-03-06   \n",
       "996  PAT000997   51  Female     Emirati  Ras Al Khaimah     2016-09-27   \n",
       "997  PAT000998   72  Female  Expatriate   Umm Al Quwain     2023-04-03   \n",
       "998  PAT000999   49  Female  Expatriate        Fujairah     2022-07-20   \n",
       "999  PAT001000   67  Female  Expatriate       Abu Dhabi     2019-04-21   \n",
       "\n",
       "    Cancer_Type Cancer_Stage Treatment_Type Treatment_Start_Date  \\\n",
       "0         Liver           II      Radiation           2020-12-04   \n",
       "1      Leukemia          III        Surgery           2015-11-05   \n",
       "2         Liver          III      Radiation           2018-08-03   \n",
       "3          Lung          III      Radiation           2022-03-13   \n",
       "4    Pancreatic           II   Chemotherapy           2020-02-29   \n",
       "..          ...          ...            ...                  ...   \n",
       "995      Breast          III        Surgery           2019-07-16   \n",
       "996    Prostate           IV  Immunotherapy           2017-01-13   \n",
       "997  Colorectal           II        Surgery           2023-06-19   \n",
       "998  Colorectal           IV   Chemotherapy           2022-11-24   \n",
       "999  Colorectal            I      Radiation           2019-10-06   \n",
       "\n",
       "                       Hospital Primary_Physician          Outcome Death_Date  \\\n",
       "0       Sheikh Khalifa Hospital          Dr. VO41        Recovered        NaN   \n",
       "1                Dubai Hospital          Dr. SM31        Recovered        NaN   \n",
       "2       Zayed Military Hospital           Dr. BC7  Under Treatment        NaN   \n",
       "3    Cleveland Clinic Abu Dhabi          Dr. TC14        Recovered        NaN   \n",
       "4       Sheikh Khalifa Hospital          Dr. YS37        Recovered        NaN   \n",
       "..                          ...               ...              ...        ...   \n",
       "995  Cleveland Clinic Abu Dhabi          Dr. KT24        Recovered        NaN   \n",
       "996              Dubai Hospital          Dr. AR10  Under Treatment        NaN   \n",
       "997     Sheikh Khalifa Hospital          Dr. WA19  Under Treatment        NaN   \n",
       "998     Sheikh Khalifa Hospital          Dr. EF23  Under Treatment        NaN   \n",
       "999  Cleveland Clinic Abu Dhabi           Dr. CO4        Recovered        NaN   \n",
       "\n",
       "    Cause_of_Death Smoking_Status Comorbidities    Ethnicity  Weight  Height  \n",
       "0              NaN     Non-Smoker           NaN     European      61     157  \n",
       "1              NaN         Smoker           NaN  South Asian      80     175  \n",
       "2              NaN     Non-Smoker           NaN  South Asian      50     175  \n",
       "3              NaN  Former Smoker           NaN      African      44     155  \n",
       "4              NaN  Former Smoker           NaN   East Asian     101     160  \n",
       "..             ...            ...           ...          ...     ...     ...  \n",
       "995            NaN         Smoker      Diabetes   East Asian      64     176  \n",
       "996            NaN  Former Smoker           NaN         Arab      66     169  \n",
       "997            NaN     Non-Smoker      Diabetes  South Asian      70     169  \n",
       "998            NaN         Smoker      Diabetes         Arab      82     172  \n",
       "999            NaN         Smoker  Hypertension     European      72     168  \n",
       "\n",
       "[1000 rows x 20 columns]"
      ],
      "text/html": [
       "<div>\n",
       "<style scoped>\n",
       "    .dataframe tbody tr th:only-of-type {\n",
       "        vertical-align: middle;\n",
       "    }\n",
       "\n",
       "    .dataframe tbody tr th {\n",
       "        vertical-align: top;\n",
       "    }\n",
       "\n",
       "    .dataframe thead th {\n",
       "        text-align: right;\n",
       "    }\n",
       "</style>\n",
       "<table border=\"1\" class=\"dataframe\">\n",
       "  <thead>\n",
       "    <tr style=\"text-align: right;\">\n",
       "      <th></th>\n",
       "      <th>Patient_ID</th>\n",
       "      <th>Age</th>\n",
       "      <th>Gender</th>\n",
       "      <th>Nationality</th>\n",
       "      <th>Emirate</th>\n",
       "      <th>Diagnosis_Date</th>\n",
       "      <th>Cancer_Type</th>\n",
       "      <th>Cancer_Stage</th>\n",
       "      <th>Treatment_Type</th>\n",
       "      <th>Treatment_Start_Date</th>\n",
       "      <th>Hospital</th>\n",
       "      <th>Primary_Physician</th>\n",
       "      <th>Outcome</th>\n",
       "      <th>Death_Date</th>\n",
       "      <th>Cause_of_Death</th>\n",
       "      <th>Smoking_Status</th>\n",
       "      <th>Comorbidities</th>\n",
       "      <th>Ethnicity</th>\n",
       "      <th>Weight</th>\n",
       "      <th>Height</th>\n",
       "    </tr>\n",
       "  </thead>\n",
       "  <tbody>\n",
       "    <tr>\n",
       "      <th>0</th>\n",
       "      <td>PAT000001</td>\n",
       "      <td>69</td>\n",
       "      <td>Female</td>\n",
       "      <td>Emirati</td>\n",
       "      <td>Umm Al Quwain</td>\n",
       "      <td>2020-11-30</td>\n",
       "      <td>Liver</td>\n",
       "      <td>II</td>\n",
       "      <td>Radiation</td>\n",
       "      <td>2020-12-04</td>\n",
       "      <td>Sheikh Khalifa Hospital</td>\n",
       "      <td>Dr. VO41</td>\n",
       "      <td>Recovered</td>\n",
       "      <td>NaN</td>\n",
       "      <td>NaN</td>\n",
       "      <td>Non-Smoker</td>\n",
       "      <td>NaN</td>\n",
       "      <td>European</td>\n",
       "      <td>61</td>\n",
       "      <td>157</td>\n",
       "    </tr>\n",
       "    <tr>\n",
       "      <th>1</th>\n",
       "      <td>PAT000002</td>\n",
       "      <td>32</td>\n",
       "      <td>Male</td>\n",
       "      <td>Emirati</td>\n",
       "      <td>Umm Al Quwain</td>\n",
       "      <td>2015-10-10</td>\n",
       "      <td>Leukemia</td>\n",
       "      <td>III</td>\n",
       "      <td>Surgery</td>\n",
       "      <td>2015-11-05</td>\n",
       "      <td>Dubai Hospital</td>\n",
       "      <td>Dr. SM31</td>\n",
       "      <td>Recovered</td>\n",
       "      <td>NaN</td>\n",
       "      <td>NaN</td>\n",
       "      <td>Smoker</td>\n",
       "      <td>NaN</td>\n",
       "      <td>South Asian</td>\n",
       "      <td>80</td>\n",
       "      <td>175</td>\n",
       "    </tr>\n",
       "    <tr>\n",
       "      <th>2</th>\n",
       "      <td>PAT000003</td>\n",
       "      <td>89</td>\n",
       "      <td>Male</td>\n",
       "      <td>Emirati</td>\n",
       "      <td>Abu Dhabi</td>\n",
       "      <td>2018-02-13</td>\n",
       "      <td>Liver</td>\n",
       "      <td>III</td>\n",
       "      <td>Radiation</td>\n",
       "      <td>2018-08-03</td>\n",
       "      <td>Zayed Military Hospital</td>\n",
       "      <td>Dr. BC7</td>\n",
       "      <td>Under Treatment</td>\n",
       "      <td>NaN</td>\n",
       "      <td>NaN</td>\n",
       "      <td>Non-Smoker</td>\n",
       "      <td>NaN</td>\n",
       "      <td>South Asian</td>\n",
       "      <td>50</td>\n",
       "      <td>175</td>\n",
       "    </tr>\n",
       "    <tr>\n",
       "      <th>3</th>\n",
       "      <td>PAT000004</td>\n",
       "      <td>78</td>\n",
       "      <td>Female</td>\n",
       "      <td>Emirati</td>\n",
       "      <td>Abu Dhabi</td>\n",
       "      <td>2022-02-04</td>\n",
       "      <td>Lung</td>\n",
       "      <td>III</td>\n",
       "      <td>Radiation</td>\n",
       "      <td>2022-03-13</td>\n",
       "      <td>Cleveland Clinic Abu Dhabi</td>\n",
       "      <td>Dr. TC14</td>\n",
       "      <td>Recovered</td>\n",
       "      <td>NaN</td>\n",
       "      <td>NaN</td>\n",
       "      <td>Former Smoker</td>\n",
       "      <td>NaN</td>\n",
       "      <td>African</td>\n",
       "      <td>44</td>\n",
       "      <td>155</td>\n",
       "    </tr>\n",
       "    <tr>\n",
       "      <th>4</th>\n",
       "      <td>PAT000005</td>\n",
       "      <td>38</td>\n",
       "      <td>Female</td>\n",
       "      <td>Emirati</td>\n",
       "      <td>Fujairah</td>\n",
       "      <td>2019-12-03</td>\n",
       "      <td>Pancreatic</td>\n",
       "      <td>II</td>\n",
       "      <td>Chemotherapy</td>\n",
       "      <td>2020-02-29</td>\n",
       "      <td>Sheikh Khalifa Hospital</td>\n",
       "      <td>Dr. YS37</td>\n",
       "      <td>Recovered</td>\n",
       "      <td>NaN</td>\n",
       "      <td>NaN</td>\n",
       "      <td>Former Smoker</td>\n",
       "      <td>NaN</td>\n",
       "      <td>East Asian</td>\n",
       "      <td>101</td>\n",
       "      <td>160</td>\n",
       "    </tr>\n",
       "    <tr>\n",
       "      <th>...</th>\n",
       "      <td>...</td>\n",
       "      <td>...</td>\n",
       "      <td>...</td>\n",
       "      <td>...</td>\n",
       "      <td>...</td>\n",
       "      <td>...</td>\n",
       "      <td>...</td>\n",
       "      <td>...</td>\n",
       "      <td>...</td>\n",
       "      <td>...</td>\n",
       "      <td>...</td>\n",
       "      <td>...</td>\n",
       "      <td>...</td>\n",
       "      <td>...</td>\n",
       "      <td>...</td>\n",
       "      <td>...</td>\n",
       "      <td>...</td>\n",
       "      <td>...</td>\n",
       "      <td>...</td>\n",
       "      <td>...</td>\n",
       "    </tr>\n",
       "    <tr>\n",
       "      <th>995</th>\n",
       "      <td>PAT000996</td>\n",
       "      <td>27</td>\n",
       "      <td>Male</td>\n",
       "      <td>Expatriate</td>\n",
       "      <td>Abu Dhabi</td>\n",
       "      <td>2019-03-06</td>\n",
       "      <td>Breast</td>\n",
       "      <td>III</td>\n",
       "      <td>Surgery</td>\n",
       "      <td>2019-07-16</td>\n",
       "      <td>Cleveland Clinic Abu Dhabi</td>\n",
       "      <td>Dr. KT24</td>\n",
       "      <td>Recovered</td>\n",
       "      <td>NaN</td>\n",
       "      <td>NaN</td>\n",
       "      <td>Smoker</td>\n",
       "      <td>Diabetes</td>\n",
       "      <td>East Asian</td>\n",
       "      <td>64</td>\n",
       "      <td>176</td>\n",
       "    </tr>\n",
       "    <tr>\n",
       "      <th>996</th>\n",
       "      <td>PAT000997</td>\n",
       "      <td>51</td>\n",
       "      <td>Female</td>\n",
       "      <td>Emirati</td>\n",
       "      <td>Ras Al Khaimah</td>\n",
       "      <td>2016-09-27</td>\n",
       "      <td>Prostate</td>\n",
       "      <td>IV</td>\n",
       "      <td>Immunotherapy</td>\n",
       "      <td>2017-01-13</td>\n",
       "      <td>Dubai Hospital</td>\n",
       "      <td>Dr. AR10</td>\n",
       "      <td>Under Treatment</td>\n",
       "      <td>NaN</td>\n",
       "      <td>NaN</td>\n",
       "      <td>Former Smoker</td>\n",
       "      <td>NaN</td>\n",
       "      <td>Arab</td>\n",
       "      <td>66</td>\n",
       "      <td>169</td>\n",
       "    </tr>\n",
       "    <tr>\n",
       "      <th>997</th>\n",
       "      <td>PAT000998</td>\n",
       "      <td>72</td>\n",
       "      <td>Female</td>\n",
       "      <td>Expatriate</td>\n",
       "      <td>Umm Al Quwain</td>\n",
       "      <td>2023-04-03</td>\n",
       "      <td>Colorectal</td>\n",
       "      <td>II</td>\n",
       "      <td>Surgery</td>\n",
       "      <td>2023-06-19</td>\n",
       "      <td>Sheikh Khalifa Hospital</td>\n",
       "      <td>Dr. WA19</td>\n",
       "      <td>Under Treatment</td>\n",
       "      <td>NaN</td>\n",
       "      <td>NaN</td>\n",
       "      <td>Non-Smoker</td>\n",
       "      <td>Diabetes</td>\n",
       "      <td>South Asian</td>\n",
       "      <td>70</td>\n",
       "      <td>169</td>\n",
       "    </tr>\n",
       "    <tr>\n",
       "      <th>998</th>\n",
       "      <td>PAT000999</td>\n",
       "      <td>49</td>\n",
       "      <td>Female</td>\n",
       "      <td>Expatriate</td>\n",
       "      <td>Fujairah</td>\n",
       "      <td>2022-07-20</td>\n",
       "      <td>Colorectal</td>\n",
       "      <td>IV</td>\n",
       "      <td>Chemotherapy</td>\n",
       "      <td>2022-11-24</td>\n",
       "      <td>Sheikh Khalifa Hospital</td>\n",
       "      <td>Dr. EF23</td>\n",
       "      <td>Under Treatment</td>\n",
       "      <td>NaN</td>\n",
       "      <td>NaN</td>\n",
       "      <td>Smoker</td>\n",
       "      <td>Diabetes</td>\n",
       "      <td>Arab</td>\n",
       "      <td>82</td>\n",
       "      <td>172</td>\n",
       "    </tr>\n",
       "    <tr>\n",
       "      <th>999</th>\n",
       "      <td>PAT001000</td>\n",
       "      <td>67</td>\n",
       "      <td>Female</td>\n",
       "      <td>Expatriate</td>\n",
       "      <td>Abu Dhabi</td>\n",
       "      <td>2019-04-21</td>\n",
       "      <td>Colorectal</td>\n",
       "      <td>I</td>\n",
       "      <td>Radiation</td>\n",
       "      <td>2019-10-06</td>\n",
       "      <td>Cleveland Clinic Abu Dhabi</td>\n",
       "      <td>Dr. CO4</td>\n",
       "      <td>Recovered</td>\n",
       "      <td>NaN</td>\n",
       "      <td>NaN</td>\n",
       "      <td>Smoker</td>\n",
       "      <td>Hypertension</td>\n",
       "      <td>European</td>\n",
       "      <td>72</td>\n",
       "      <td>168</td>\n",
       "    </tr>\n",
       "  </tbody>\n",
       "</table>\n",
       "<p>1000 rows × 20 columns</p>\n",
       "</div>"
      ]
     },
     "execution_count": 173,
     "metadata": {},
     "output_type": "execute_result"
    }
   ],
   "execution_count": 173
  },
  {
   "metadata": {
    "ExecuteTime": {
     "end_time": "2025-04-24T22:59:11.797043Z",
     "start_time": "2025-04-24T22:59:11.794706Z"
    }
   },
   "cell_type": "code",
   "source": "dd = data.Age",
   "id": "f339b8c1ded7d232",
   "outputs": [],
   "execution_count": 174
  },
  {
   "metadata": {
    "ExecuteTime": {
     "end_time": "2025-04-24T22:59:11.825257Z",
     "start_time": "2025-04-24T22:59:11.820875Z"
    }
   },
   "cell_type": "code",
   "source": [
    "five_number_summary = dd.describe()\n",
    "five_number_summary"
   ],
   "id": "188caa37f3a62163",
   "outputs": [
    {
     "data": {
      "text/plain": [
       "count    1000.000000\n",
       "mean       52.881000\n",
       "std        20.958915\n",
       "min        18.000000\n",
       "25%        34.750000\n",
       "50%        52.500000\n",
       "75%        71.000000\n",
       "max        89.000000\n",
       "Name: Age, dtype: float64"
      ]
     },
     "execution_count": 175,
     "metadata": {},
     "output_type": "execute_result"
    }
   ],
   "execution_count": 175
  },
  {
   "metadata": {
    "ExecuteTime": {
     "end_time": "2025-04-24T22:59:11.935066Z",
     "start_time": "2025-04-24T22:59:11.869738Z"
    }
   },
   "cell_type": "code",
   "source": [
    "plt.figure(figsize=(16, 8))\n",
    "plt.grid(True)\n",
    "plt.title('Age boxplot')\n",
    "plt.boxplot(dd)"
   ],
   "id": "71b4f24d306af7c4",
   "outputs": [
    {
     "data": {
      "text/plain": [
       "{'whiskers': [<matplotlib.lines.Line2D at 0x19fc07b3530>,\n",
       "  <matplotlib.lines.Line2D at 0x19fc07b37d0>],\n",
       " 'caps': [<matplotlib.lines.Line2D at 0x19fc07b3ad0>,\n",
       "  <matplotlib.lines.Line2D at 0x19fc07b3d40>],\n",
       " 'boxes': [<matplotlib.lines.Line2D at 0x19fc07b32f0>],\n",
       " 'medians': [<matplotlib.lines.Line2D at 0x19fc0748080>],\n",
       " 'fliers': [<matplotlib.lines.Line2D at 0x19fc07482f0>],\n",
       " 'means': []}"
      ]
     },
     "execution_count": 176,
     "metadata": {},
     "output_type": "execute_result"
    },
    {
     "data": {
      "text/plain": [
       "<Figure size 1600x800 with 1 Axes>"
      ],
      "image/png": "[encoded data removed]"
     },
     "metadata": {},
     "output_type": "display_data"
    }
   ],
   "execution_count": 176
  },
  {
   "metadata": {
    "ExecuteTime": {
     "end_time": "2025-04-24T22:59:11.955472Z",
     "start_time": "2025-04-24T22:59:11.951649Z"
    }
   },
   "cell_type": "code",
   "source": [
    "q1 = dd.quantile(0.25)\n",
    "q3 = dd.quantile(0.75)\n",
    "IQR = q3 - q1\n",
    "minimum = q1 - 1.5 * IQR\n",
    "maximum = q3 + 1.5 * IQR\n",
    "print(f\"minimum = {minimum}, maximum = {maximum}, IQR = {IQR}\")"
   ],
   "id": "2be4efb3159bcbe9",
   "outputs": [
    {
     "name": "stdout",
     "output_type": "stream",
     "text": [
      "minimum = -19.625, maximum = 125.375, IQR = 36.25\n"
     ]
    }
   ],
   "execution_count": 177
  },
  {
   "metadata": {
    "ExecuteTime": {
     "end_time": "2025-04-24T22:59:12.031157Z",
     "start_time": "2025-04-24T22:59:11.975408Z"
    }
   },
   "cell_type": "code",
   "source": [
    "fig, ax = plt.subplots()\n",
    "ax.hist(dd, bins=8, linewidth=1, edgecolor=\"white\")"
   ],
   "id": "89f0373cde64db8d",
   "outputs": [
    {
     "data": {
      "text/plain": [
       "(array([143., 118., 127., 129., 106., 133., 139., 105.]),\n",
       " array([18.   , 26.875, 35.75 , 44.625, 53.5  , 62.375, 71.25 , 80.125,\n",
       "        89.   ]),\n",
       " <BarContainer object of 8 artists>)"
      ]
     },
     "execution_count": 178,
     "metadata": {},
     "output_type": "execute_result"
    },
    {
     "data": {
      "text/plain": [
       "<Figure size 640x480 with 1 Axes>"
      ],
      "image/png": "[encoded data removed]"
     },
     "metadata": {},
     "output_type": "display_data"
    }
   ],
   "execution_count": 178
  },
  {
   "metadata": {
    "ExecuteTime": {
     "end_time": "2025-04-24T22:59:12.095536Z",
     "start_time": "2025-04-24T22:59:12.041149Z"
    }
   },
   "cell_type": "code",
   "source": [
    "fig, ax = plt.subplots()\n",
    "ax.ecdf(dd)"
   ],
   "id": "d4c6cc8478107bd5",
   "outputs": [
    {
     "data": {
      "text/plain": [
       "<matplotlib.lines.Line2D at 0x19fc084c8c0>"
      ]
     },
     "execution_count": 179,
     "metadata": {},
     "output_type": "execute_result"
    },
    {
     "data": {
      "text/plain": [
       "<Figure size 640x480 with 1 Axes>"
      ],
      "image/png": "[encoded data removed]"
     },
     "metadata": {},
     "output_type": "display_data"
    }
   ],
   "execution_count": 179
  },
  {
   "metadata": {
    "ExecuteTime": {
     "end_time": "2025-04-24T22:59:12.193529Z",
     "start_time": "2025-04-24T22:59:12.113693Z"
    }
   },
   "cell_type": "code",
   "source": [
    "fig, ax = plt.subplots()\n",
    "ax.stairs(dd, linewidth=0.5)"
   ],
   "id": "5d0fa1ade7bdee75",
   "outputs": [
    {
     "data": {
      "text/plain": [
       "<matplotlib.patches.StepPatch at 0x19fc07b3e60>"
      ]
     },
     "execution_count": 180,
     "metadata": {},
     "output_type": "execute_result"
    },
    {
     "data": {
      "text/plain": [
       "<Figure size 640x480 with 1 Axes>"
      ],
      "image/png": "[encoded data removed]"
     },
     "metadata": {},
     "output_type": "display_data"
    }
   ],
   "execution_count": 180
  },
  {
   "metadata": {
    "ExecuteTime": {
     "end_time": "2025-04-24T22:59:12.359894Z",
     "start_time": "2025-04-24T22:59:12.352998Z"
    }
   },
   "cell_type": "code",
   "source": "data.isnull().sum() #data_mising",
   "id": "71eabf8459beb76f",
   "outputs": [
    {
     "data": {
      "text/plain": [
       "Patient_ID                0\n",
       "Age                       0\n",
       "Gender                    0\n",
       "Nationality               0\n",
       "Emirate                   0\n",
       "Diagnosis_Date            0\n",
       "Cancer_Type               0\n",
       "Cancer_Stage              0\n",
       "Treatment_Type            0\n",
       "Treatment_Start_Date      0\n",
       "Hospital                  0\n",
       "Primary_Physician         0\n",
       "Outcome                   0\n",
       "Death_Date              885\n",
       "Cause_of_Death          885\n",
       "Smoking_Status            0\n",
       "Comorbidities           398\n",
       "Ethnicity                 0\n",
       "Weight                    0\n",
       "Height                    0\n",
       "dtype: int64"
      ]
     },
     "execution_count": 181,
     "metadata": {},
     "output_type": "execute_result"
    }
   ],
   "execution_count": 181
  },
  {
   "metadata": {
    "ExecuteTime": {
     "end_time": "2025-04-24T22:59:12.403429Z",
     "start_time": "2025-04-24T22:59:12.397622Z"
    }
   },
   "cell_type": "code",
   "source": [
    "data = data.copy()\n",
    "data.fillna(\"unknown\", inplace=True)\n",
    "data.isnull().sum()"
   ],
   "id": "1307042aa89ed980",
   "outputs": [
    {
     "data": {
      "text/plain": [
       "Patient_ID              0\n",
       "Age                     0\n",
       "Gender                  0\n",
       "Nationality             0\n",
       "Emirate                 0\n",
       "Diagnosis_Date          0\n",
       "Cancer_Type             0\n",
       "Cancer_Stage            0\n",
       "Treatment_Type          0\n",
       "Treatment_Start_Date    0\n",
       "Hospital                0\n",
       "Primary_Physician       0\n",
       "Outcome                 0\n",
       "Death_Date              0\n",
       "Cause_of_Death          0\n",
       "Smoking_Status          0\n",
       "Comorbidities           0\n",
       "Ethnicity               0\n",
       "Weight                  0\n",
       "Height                  0\n",
       "dtype: int64"
      ]
     },
     "execution_count": 182,
     "metadata": {},
     "output_type": "execute_result"
    }
   ],
   "execution_count": 182
  },
  {
   "metadata": {
    "ExecuteTime": {
     "end_time": "2025-04-24T22:59:12.449704Z",
     "start_time": "2025-04-24T22:59:12.446054Z"
    }
   },
   "cell_type": "code",
   "source": "dd",
   "id": "7bb74da924bbb523",
   "outputs": [
    {
     "data": {
      "text/plain": [
       "0      69\n",
       "1      32\n",
       "2      89\n",
       "3      78\n",
       "4      38\n",
       "       ..\n",
       "995    27\n",
       "996    51\n",
       "997    72\n",
       "998    49\n",
       "999    67\n",
       "Name: Age, Length: 1000, dtype: int64"
      ]
     },
     "execution_count": 183,
     "metadata": {},
     "output_type": "execute_result"
    }
   ],
   "execution_count": 183
  },
  {
   "metadata": {
    "ExecuteTime": {
     "end_time": "2025-04-24T22:59:12.510526Z",
     "start_time": "2025-04-24T22:59:12.505966Z"
    }
   },
   "cell_type": "code",
   "source": [
    "dd_zscore = (dd - dd.mean()) / dd.std()\n",
    "dd_minmax = (dd - dd.min()) / (dd.max() - dd.min())\n",
    "print(f\"z-score = {dd_zscore}, Min-Max = {dd_minmax}\")"
   ],
   "id": "b8a3a2c1ff0a18e6",
   "outputs": [
    {
     "name": "stdout",
     "output_type": "stream",
     "text": [
      "z-score = 0      0.769076\n",
      "1     -0.996282\n",
      "2      1.723324\n",
      "3      1.198488\n",
      "4     -0.710008\n",
      "         ...   \n",
      "995   -1.234844\n",
      "996   -0.089747\n",
      "997    0.912213\n",
      "998   -0.185172\n",
      "999    0.673651\n",
      "Name: Age, Length: 1000, dtype: float64, Min-Max = 0      0.718310\n",
      "1      0.197183\n",
      "2      1.000000\n",
      "3      0.845070\n",
      "4      0.281690\n",
      "         ...   \n",
      "995    0.126761\n",
      "996    0.464789\n",
      "997    0.760563\n",
      "998    0.436620\n",
      "999    0.690141\n",
      "Name: Age, Length: 1000, dtype: float64\n"
     ]
    }
   ],
   "execution_count": 184
  }
 ],
 "metadata": {
  "kernelspec": {
   "display_name": "Python 3",
   "language": "python",
   "name": "python3"
  },
  "language_info": {
   "codemirror_mode": {
    "name": "ipython",
    "version": 2
   },
   "file_extension": ".py",
   "mimetype": "text/x-python",
   "name": "python",
   "nbconvert_exporter": "python",
   "pygments_lexer": "ipython2",
   "version": "2.7.6"
  }
 },
 "nbformat": 4,
 "nbformat_minor": 5
}
