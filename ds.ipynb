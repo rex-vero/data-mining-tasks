{
 "cells": [
  {
   "cell_type": "code",
   "id": "initial_id",
   "metadata": {
    "collapsed": true,
    "ExecuteTime": {
     "end_time": "2025-04-13T18:54:18.484722Z",
     "start_time": "2025-04-13T18:54:18.480582Z"
    }
   },
   "source": [
    "import pandas as pd\n",
    "import matplotlib.pyplot as plt"
   ],
   "outputs": [],
   "execution_count": 541
  },
  {
   "metadata": {
    "ExecuteTime": {
     "end_time": "2025-04-13T18:54:18.546802Z",
     "start_time": "2025-04-13T18:54:18.490698Z"
    }
   },
   "cell_type": "code",
   "source": [
    "ds = pd.read_csv('_cancer_dataset_uae.csv')\n",
    "data = ds.head(100)\n",
    "data"
   ],
   "id": "3aae3f6ab7da8a04",
   "outputs": [
    {
     "data": {
      "text/plain": [
       "   Patient_ID  Age  Gender Nationality         Emirate Diagnosis_Date  \\\n",
       "0   PAT000001   69  Female     Emirati   Umm Al Quwain     2020-11-30   \n",
       "1   PAT000002   32    Male     Emirati   Umm Al Quwain     2015-10-10   \n",
       "2   PAT000003   89    Male     Emirati       Abu Dhabi     2018-02-13   \n",
       "3   PAT000004   78  Female     Emirati       Abu Dhabi     2022-02-04   \n",
       "4   PAT000005   38  Female     Emirati        Fujairah     2019-12-03   \n",
       "..        ...  ...     ...         ...             ...            ...   \n",
       "95  PAT000096   65    Male  Expatriate       Abu Dhabi     2023-12-13   \n",
       "96  PAT000097   40  Female  Expatriate           Dubai     2021-07-02   \n",
       "97  PAT000098   79  Female  Expatriate       Abu Dhabi     2016-07-29   \n",
       "98  PAT000099   54  Female     Emirati       Abu Dhabi     2017-11-01   \n",
       "99  PAT000100   61  Female     Emirati  Ras Al Khaimah     2015-12-27   \n",
       "\n",
       "   Cancer_Type Cancer_Stage Treatment_Type Treatment_Start_Date  \\\n",
       "0        Liver           II      Radiation           2020-12-04   \n",
       "1     Leukemia          III        Surgery           2015-11-05   \n",
       "2        Liver          III      Radiation           2018-08-03   \n",
       "3         Lung          III      Radiation           2022-03-13   \n",
       "4   Pancreatic           II   Chemotherapy           2020-02-29   \n",
       "..         ...          ...            ...                  ...   \n",
       "95     Ovarian           II        Surgery           2024-05-25   \n",
       "96    Leukemia          III      Radiation           2021-07-16   \n",
       "97    Prostate            I      Radiation           2016-08-17   \n",
       "98      Breast            I      Radiation           2018-04-07   \n",
       "99  Pancreatic           II      Radiation           2016-05-18   \n",
       "\n",
       "                      Hospital Primary_Physician          Outcome  \\\n",
       "0      Sheikh Khalifa Hospital          Dr. VO41        Recovered   \n",
       "1               Dubai Hospital          Dr. SM31        Recovered   \n",
       "2      Zayed Military Hospital           Dr. BC7  Under Treatment   \n",
       "3   Cleveland Clinic Abu Dhabi          Dr. TC14        Recovered   \n",
       "4      Sheikh Khalifa Hospital          Dr. YS37        Recovered   \n",
       "..                         ...               ...              ...   \n",
       "95     Sheikh Khalifa Hospital          Dr. HX33  Under Treatment   \n",
       "96              Dubai Hospital          Dr. ZP50         Deceased   \n",
       "97     Zayed Military Hospital          Dr. GJ26  Under Treatment   \n",
       "98  Cleveland Clinic Abu Dhabi          Dr. WP48        Recovered   \n",
       "99     Zayed Military Hospital          Dr. QN40  Under Treatment   \n",
       "\n",
       "             Death_Date Cause_of_Death Smoking_Status Comorbidities  \\\n",
       "0                   NaN            NaN     Non-Smoker           NaN   \n",
       "1                   NaN            NaN         Smoker           NaN   \n",
       "2                   NaN            NaN     Non-Smoker           NaN   \n",
       "3                   NaN            NaN  Former Smoker           NaN   \n",
       "4                   NaN            NaN  Former Smoker           NaN   \n",
       "..                  ...            ...            ...           ...   \n",
       "95                  NaN            NaN  Former Smoker      Diabetes   \n",
       "96  2023-01-11 00:00:00         Cancer  Former Smoker           NaN   \n",
       "97                  NaN            NaN         Smoker  Hypertension   \n",
       "98                  NaN            NaN     Non-Smoker           NaN   \n",
       "99                  NaN            NaN  Former Smoker           NaN   \n",
       "\n",
       "      Ethnicity  Weight  Height  \n",
       "0      European      61     157  \n",
       "1   South Asian      80     175  \n",
       "2   South Asian      50     175  \n",
       "3       African      44     155  \n",
       "4    East Asian     101     160  \n",
       "..          ...     ...     ...  \n",
       "95   East Asian      73     184  \n",
       "96      African      79     172  \n",
       "97  South Asian      47     157  \n",
       "98   East Asian      62     185  \n",
       "99  South Asian      67     178  \n",
       "\n",
       "[100 rows x 20 columns]"
      ],
      "text/html": [
       "<div>\n",
       "<style scoped>\n",
       "    .dataframe tbody tr th:only-of-type {\n",
       "        vertical-align: middle;\n",
       "    }\n",
       "\n",
       "    .dataframe tbody tr th {\n",
       "        vertical-align: top;\n",
       "    }\n",
       "\n",
       "    .dataframe thead th {\n",
       "        text-align: right;\n",
       "    }\n",
       "</style>\n",
       "<table border=\"1\" class=\"dataframe\">\n",
       "  <thead>\n",
       "    <tr style=\"text-align: right;\">\n",
       "      <th></th>\n",
       "      <th>Patient_ID</th>\n",
       "      <th>Age</th>\n",
       "      <th>Gender</th>\n",
       "      <th>Nationality</th>\n",
       "      <th>Emirate</th>\n",
       "      <th>Diagnosis_Date</th>\n",
       "      <th>Cancer_Type</th>\n",
       "      <th>Cancer_Stage</th>\n",
       "      <th>Treatment_Type</th>\n",
       "      <th>Treatment_Start_Date</th>\n",
       "      <th>Hospital</th>\n",
       "      <th>Primary_Physician</th>\n",
       "      <th>Outcome</th>\n",
       "      <th>Death_Date</th>\n",
       "      <th>Cause_of_Death</th>\n",
       "      <th>Smoking_Status</th>\n",
       "      <th>Comorbidities</th>\n",
       "      <th>Ethnicity</th>\n",
       "      <th>Weight</th>\n",
       "      <th>Height</th>\n",
       "    </tr>\n",
       "  </thead>\n",
       "  <tbody>\n",
       "    <tr>\n",
       "      <th>0</th>\n",
       "      <td>PAT000001</td>\n",
       "      <td>69</td>\n",
       "      <td>Female</td>\n",
       "      <td>Emirati</td>\n",
       "      <td>Umm Al Quwain</td>\n",
       "      <td>2020-11-30</td>\n",
       "      <td>Liver</td>\n",
       "      <td>II</td>\n",
       "      <td>Radiation</td>\n",
       "      <td>2020-12-04</td>\n",
       "      <td>Sheikh Khalifa Hospital</td>\n",
       "      <td>Dr. VO41</td>\n",
       "      <td>Recovered</td>\n",
       "      <td>NaN</td>\n",
       "      <td>NaN</td>\n",
       "      <td>Non-Smoker</td>\n",
       "      <td>NaN</td>\n",
       "      <td>European</td>\n",
       "      <td>61</td>\n",
       "      <td>157</td>\n",
       "    </tr>\n",
       "    <tr>\n",
       "      <th>1</th>\n",
       "      <td>PAT000002</td>\n",
       "      <td>32</td>\n",
       "      <td>Male</td>\n",
       "      <td>Emirati</td>\n",
       "      <td>Umm Al Quwain</td>\n",
       "      <td>2015-10-10</td>\n",
       "      <td>Leukemia</td>\n",
       "      <td>III</td>\n",
       "      <td>Surgery</td>\n",
       "      <td>2015-11-05</td>\n",
       "      <td>Dubai Hospital</td>\n",
       "      <td>Dr. SM31</td>\n",
       "      <td>Recovered</td>\n",
       "      <td>NaN</td>\n",
       "      <td>NaN</td>\n",
       "      <td>Smoker</td>\n",
       "      <td>NaN</td>\n",
       "      <td>South Asian</td>\n",
       "      <td>80</td>\n",
       "      <td>175</td>\n",
       "    </tr>\n",
       "    <tr>\n",
       "      <th>2</th>\n",
       "      <td>PAT000003</td>\n",
       "      <td>89</td>\n",
       "      <td>Male</td>\n",
       "      <td>Emirati</td>\n",
       "      <td>Abu Dhabi</td>\n",
       "      <td>2018-02-13</td>\n",
       "      <td>Liver</td>\n",
       "      <td>III</td>\n",
       "      <td>Radiation</td>\n",
       "      <td>2018-08-03</td>\n",
       "      <td>Zayed Military Hospital</td>\n",
       "      <td>Dr. BC7</td>\n",
       "      <td>Under Treatment</td>\n",
       "      <td>NaN</td>\n",
       "      <td>NaN</td>\n",
       "      <td>Non-Smoker</td>\n",
       "      <td>NaN</td>\n",
       "      <td>South Asian</td>\n",
       "      <td>50</td>\n",
       "      <td>175</td>\n",
       "    </tr>\n",
       "    <tr>\n",
       "      <th>3</th>\n",
       "      <td>PAT000004</td>\n",
       "      <td>78</td>\n",
       "      <td>Female</td>\n",
       "      <td>Emirati</td>\n",
       "      <td>Abu Dhabi</td>\n",
       "      <td>2022-02-04</td>\n",
       "      <td>Lung</td>\n",
       "      <td>III</td>\n",
       "      <td>Radiation</td>\n",
       "      <td>2022-03-13</td>\n",
       "      <td>Cleveland Clinic Abu Dhabi</td>\n",
       "      <td>Dr. TC14</td>\n",
       "      <td>Recovered</td>\n",
       "      <td>NaN</td>\n",
       "      <td>NaN</td>\n",
       "      <td>Former Smoker</td>\n",
       "      <td>NaN</td>\n",
       "      <td>African</td>\n",
       "      <td>44</td>\n",
       "      <td>155</td>\n",
       "    </tr>\n",
       "    <tr>\n",
       "      <th>4</th>\n",
       "      <td>PAT000005</td>\n",
       "      <td>38</td>\n",
       "      <td>Female</td>\n",
       "      <td>Emirati</td>\n",
       "      <td>Fujairah</td>\n",
       "      <td>2019-12-03</td>\n",
       "      <td>Pancreatic</td>\n",
       "      <td>II</td>\n",
       "      <td>Chemotherapy</td>\n",
       "      <td>2020-02-29</td>\n",
       "      <td>Sheikh Khalifa Hospital</td>\n",
       "      <td>Dr. YS37</td>\n",
       "      <td>Recovered</td>\n",
       "      <td>NaN</td>\n",
       "      <td>NaN</td>\n",
       "      <td>Former Smoker</td>\n",
       "      <td>NaN</td>\n",
       "      <td>East Asian</td>\n",
       "      <td>101</td>\n",
       "      <td>160</td>\n",
       "    </tr>\n",
       "    <tr>\n",
       "      <th>...</th>\n",
       "      <td>...</td>\n",
       "      <td>...</td>\n",
       "      <td>...</td>\n",
       "      <td>...</td>\n",
       "      <td>...</td>\n",
       "      <td>...</td>\n",
       "      <td>...</td>\n",
       "      <td>...</td>\n",
       "      <td>...</td>\n",
       "      <td>...</td>\n",
       "      <td>...</td>\n",
       "      <td>...</td>\n",
       "      <td>...</td>\n",
       "      <td>...</td>\n",
       "      <td>...</td>\n",
       "      <td>...</td>\n",
       "      <td>...</td>\n",
       "      <td>...</td>\n",
       "      <td>...</td>\n",
       "      <td>...</td>\n",
       "    </tr>\n",
       "    <tr>\n",
       "      <th>95</th>\n",
       "      <td>PAT000096</td>\n",
       "      <td>65</td>\n",
       "      <td>Male</td>\n",
       "      <td>Expatriate</td>\n",
       "      <td>Abu Dhabi</td>\n",
       "      <td>2023-12-13</td>\n",
       "      <td>Ovarian</td>\n",
       "      <td>II</td>\n",
       "      <td>Surgery</td>\n",
       "      <td>2024-05-25</td>\n",
       "      <td>Sheikh Khalifa Hospital</td>\n",
       "      <td>Dr. HX33</td>\n",
       "      <td>Under Treatment</td>\n",
       "      <td>NaN</td>\n",
       "      <td>NaN</td>\n",
       "      <td>Former Smoker</td>\n",
       "      <td>Diabetes</td>\n",
       "      <td>East Asian</td>\n",
       "      <td>73</td>\n",
       "      <td>184</td>\n",
       "    </tr>\n",
       "    <tr>\n",
       "      <th>96</th>\n",
       "      <td>PAT000097</td>\n",
       "      <td>40</td>\n",
       "      <td>Female</td>\n",
       "      <td>Expatriate</td>\n",
       "      <td>Dubai</td>\n",
       "      <td>2021-07-02</td>\n",
       "      <td>Leukemia</td>\n",
       "      <td>III</td>\n",
       "      <td>Radiation</td>\n",
       "      <td>2021-07-16</td>\n",
       "      <td>Dubai Hospital</td>\n",
       "      <td>Dr. ZP50</td>\n",
       "      <td>Deceased</td>\n",
       "      <td>2023-01-11 00:00:00</td>\n",
       "      <td>Cancer</td>\n",
       "      <td>Former Smoker</td>\n",
       "      <td>NaN</td>\n",
       "      <td>African</td>\n",
       "      <td>79</td>\n",
       "      <td>172</td>\n",
       "    </tr>\n",
       "    <tr>\n",
       "      <th>97</th>\n",
       "      <td>PAT000098</td>\n",
       "      <td>79</td>\n",
       "      <td>Female</td>\n",
       "      <td>Expatriate</td>\n",
       "      <td>Abu Dhabi</td>\n",
       "      <td>2016-07-29</td>\n",
       "      <td>Prostate</td>\n",
       "      <td>I</td>\n",
       "      <td>Radiation</td>\n",
       "      <td>2016-08-17</td>\n",
       "      <td>Zayed Military Hospital</td>\n",
       "      <td>Dr. GJ26</td>\n",
       "      <td>Under Treatment</td>\n",
       "      <td>NaN</td>\n",
       "      <td>NaN</td>\n",
       "      <td>Smoker</td>\n",
       "      <td>Hypertension</td>\n",
       "      <td>South Asian</td>\n",
       "      <td>47</td>\n",
       "      <td>157</td>\n",
       "    </tr>\n",
       "    <tr>\n",
       "      <th>98</th>\n",
       "      <td>PAT000099</td>\n",
       "      <td>54</td>\n",
       "      <td>Female</td>\n",
       "      <td>Emirati</td>\n",
       "      <td>Abu Dhabi</td>\n",
       "      <td>2017-11-01</td>\n",
       "      <td>Breast</td>\n",
       "      <td>I</td>\n",
       "      <td>Radiation</td>\n",
       "      <td>2018-04-07</td>\n",
       "      <td>Cleveland Clinic Abu Dhabi</td>\n",
       "      <td>Dr. WP48</td>\n",
       "      <td>Recovered</td>\n",
       "      <td>NaN</td>\n",
       "      <td>NaN</td>\n",
       "      <td>Non-Smoker</td>\n",
       "      <td>NaN</td>\n",
       "      <td>East Asian</td>\n",
       "      <td>62</td>\n",
       "      <td>185</td>\n",
       "    </tr>\n",
       "    <tr>\n",
       "      <th>99</th>\n",
       "      <td>PAT000100</td>\n",
       "      <td>61</td>\n",
       "      <td>Female</td>\n",
       "      <td>Emirati</td>\n",
       "      <td>Ras Al Khaimah</td>\n",
       "      <td>2015-12-27</td>\n",
       "      <td>Pancreatic</td>\n",
       "      <td>II</td>\n",
       "      <td>Radiation</td>\n",
       "      <td>2016-05-18</td>\n",
       "      <td>Zayed Military Hospital</td>\n",
       "      <td>Dr. QN40</td>\n",
       "      <td>Under Treatment</td>\n",
       "      <td>NaN</td>\n",
       "      <td>NaN</td>\n",
       "      <td>Former Smoker</td>\n",
       "      <td>NaN</td>\n",
       "      <td>South Asian</td>\n",
       "      <td>67</td>\n",
       "      <td>178</td>\n",
       "    </tr>\n",
       "  </tbody>\n",
       "</table>\n",
       "<p>100 rows × 20 columns</p>\n",
       "</div>"
      ]
     },
     "execution_count": 542,
     "metadata": {},
     "output_type": "execute_result"
    }
   ],
   "execution_count": 542
  },
  {
   "metadata": {
    "ExecuteTime": {
     "end_time": "2025-04-13T18:54:18.582422Z",
     "start_time": "2025-04-13T18:54:18.579432Z"
    }
   },
   "cell_type": "code",
   "source": "dd = data.Age",
   "id": "f339b8c1ded7d232",
   "outputs": [],
   "execution_count": 543
  },
  {
   "metadata": {
    "ExecuteTime": {
     "end_time": "2025-04-13T18:54:18.612788Z",
     "start_time": "2025-04-13T18:54:18.608334Z"
    }
   },
   "cell_type": "code",
   "source": [
    "five_number_summary = dd.describe()\n",
    "five_number_summary"
   ],
   "id": "188caa37f3a62163",
   "outputs": [
    {
     "data": {
      "text/plain": [
       "count    100.000000\n",
       "mean      52.870000\n",
       "std       21.901365\n",
       "min       18.000000\n",
       "25%       32.000000\n",
       "50%       53.500000\n",
       "75%       71.250000\n",
       "max       89.000000\n",
       "Name: Age, dtype: float64"
      ]
     },
     "execution_count": 544,
     "metadata": {},
     "output_type": "execute_result"
    }
   ],
   "execution_count": 544
  },
  {
   "metadata": {
    "ExecuteTime": {
     "end_time": "2025-04-13T18:54:18.743546Z",
     "start_time": "2025-04-13T18:54:18.668295Z"
    }
   },
   "cell_type": "code",
   "source": [
    "plt.figure(figsize=(16, 8))\n",
    "plt.grid(True)\n",
    "plt.title('Age boxplot')\n",
    "plt.boxplot(dd)"
   ],
   "id": "71b4f24d306af7c4",
   "outputs": [
    {
     "data": {
      "text/plain": [
       "{'whiskers': [<matplotlib.lines.Line2D at 0x2034bfbeb40>,\n",
       "  <matplotlib.lines.Line2D at 0x2034bfbc170>],\n",
       " 'caps': [<matplotlib.lines.Line2D at 0x2034bfbdc40>,\n",
       "  <matplotlib.lines.Line2D at 0x2034bfbc230>],\n",
       " 'boxes': [<matplotlib.lines.Line2D at 0x2034bfbede0>],\n",
       " 'medians': [<matplotlib.lines.Line2D at 0x2034bfbf3e0>],\n",
       " 'fliers': [<matplotlib.lines.Line2D at 0x2034bfbf2f0>],\n",
       " 'means': []}"
      ]
     },
     "execution_count": 545,
     "metadata": {},
     "output_type": "execute_result"
    },
    {
     "data": {
      "text/plain": [
       "<Figure size 1600x800 with 1 Axes>"
      ],
      "image/png": "[encoded data removed]"
     },
     "metadata": {},
     "output_type": "display_data"
    }
   ],
   "execution_count": 545
  },
  {
   "metadata": {
    "ExecuteTime": {
     "end_time": "2025-04-13T18:55:38.385485Z",
     "start_time": "2025-04-13T18:55:38.379815Z"
    }
   },
   "cell_type": "code",
   "source": [
    "q1 = dd.quantile(0.25)\n",
    "q3 = dd.quantile(0.75)\n",
    "IQR = q3 - q1\n",
    "minimum = q1 - 1.5 * IQR\n",
    "maximum = q3 + 1.5 * IQR\n",
    "print(f\"minimum = {minimum}, maximum = {maximum}, IQR = {IQR}\")"
   ],
   "id": "2be4efb3159bcbe9",
   "outputs": [
    {
     "name": "stdout",
     "output_type": "stream",
     "text": [
      "minimum = -26.875, maximum = 130.125, IQR = 39.25\n"
     ]
    }
   ],
   "execution_count": 554
  },
  {
   "metadata": {
    "ExecuteTime": {
     "end_time": "2025-04-13T18:54:18.832762Z",
     "start_time": "2025-04-13T18:54:18.787377Z"
    }
   },
   "cell_type": "code",
   "source": [
    "fig, ax = plt.subplots()\n",
    "ax.hist(dd, bins=8, linewidth=0.5, edgecolor=\"white\")"
   ],
   "id": "89f0373cde64db8d",
   "outputs": [
    {
     "data": {
      "text/plain": [
       "(array([19., 10.,  9., 12., 11., 14., 17.,  8.]),\n",
       " array([18.   , 26.875, 35.75 , 44.625, 53.5  , 62.375, 71.25 , 80.125,\n",
       "        89.   ]),\n",
       " <BarContainer object of 8 artists>)"
      ]
     },
     "execution_count": 547,
     "metadata": {},
     "output_type": "execute_result"
    },
    {
     "data": {
      "text/plain": [
       "<Figure size 200x200 with 1 Axes>"
      ],
      "image/png": "[encoded data removed]"
     },
     "metadata": {},
     "output_type": "display_data"
    }
   ],
   "execution_count": 547
  },
  {
   "metadata": {
    "ExecuteTime": {
     "end_time": "2025-04-13T18:54:18.887456Z",
     "start_time": "2025-04-13T18:54:18.845596Z"
    }
   },
   "cell_type": "code",
   "source": [
    "fig, ax = plt.subplots()\n",
    "ax.ecdf(dd)"
   ],
   "id": "d4c6cc8478107bd5",
   "outputs": [
    {
     "data": {
      "text/plain": [
       "<matplotlib.lines.Line2D at 0x2034eb45700>"
      ]
     },
     "execution_count": 548,
     "metadata": {},
     "output_type": "execute_result"
    },
    {
     "data": {
      "text/plain": [
       "<Figure size 200x200 with 1 Axes>"
      ],
      "image/png": "[encoded data removed]"
     },
     "metadata": {},
     "output_type": "display_data"
    }
   ],
   "execution_count": 548
  },
  {
   "metadata": {
    "ExecuteTime": {
     "end_time": "2025-04-13T18:54:18.948540Z",
     "start_time": "2025-04-13T18:54:18.907170Z"
    }
   },
   "cell_type": "code",
   "source": [
    "fig, ax = plt.subplots()\n",
    "ax.stairs(dd, linewidth=0.5)"
   ],
   "id": "5d0fa1ade7bdee75",
   "outputs": [
    {
     "data": {
      "text/plain": [
       "<matplotlib.patches.StepPatch at 0x2034ea180b0>"
      ]
     },
     "execution_count": 549,
     "metadata": {},
     "output_type": "execute_result"
    },
    {
     "data": {
      "text/plain": [
       "<Figure size 200x200 with 1 Axes>"
      ],
      "image/png": "[encoded data removed]"
     },
     "metadata": {},
     "output_type": "display_data"
    }
   ],
   "execution_count": 549
  }
 ],
 "metadata": {
  "kernelspec": {
   "display_name": "Python 3",
   "language": "python",
   "name": "python3"
  },
  "language_info": {
   "codemirror_mode": {
    "name": "ipython",
    "version": 2
   },
   "file_extension": ".py",
   "mimetype": "text/x-python",
   "name": "python",
   "nbconvert_exporter": "python",
   "pygments_lexer": "ipython2",
   "version": "2.7.6"
  }
 },
 "nbformat": 4,
 "nbformat_minor": 5
}
